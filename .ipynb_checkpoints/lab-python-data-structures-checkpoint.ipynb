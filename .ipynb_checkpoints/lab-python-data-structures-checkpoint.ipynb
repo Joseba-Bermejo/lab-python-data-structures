{
 "cells": [
  {
   "cell_type": "markdown",
   "metadata": {
    "tags": []
   },
   "source": [
    "# Lab | Data Structures "
   ]
  },
  {
   "cell_type": "markdown",
   "metadata": {},
   "source": [
    "## Exercise: Managing Customer Orders\n",
    "\n",
    "As part of a business venture, you are starting an online store that sells various products. To ensure smooth operations, you need to develop a program that manages customer orders and inventory.\n",
    "\n",
    "Follow the steps below to complete the exercise:\n",
    "\n",
    "1. Define a list called `products` that contains the following items: \"t-shirt\", \"mug\", \"hat\", \"book\", \"keychain\".\n",
    "\n",
    "2. Create an empty dictionary called `inventory`.\n",
    "\n",
    "3. Ask the user to input the quantity of each product available in the inventory. Use the product names from the `products` list as keys in the `inventory` dictionary and assign the respective quantities as values.\n",
    "\n",
    "4. Create an empty set called `customer_orders`.\n",
    "\n",
    "5. Ask the user to input the name of three products that a customer wants to order (from those in the products list, meaning three products out of \"t-shirt\", \"mug\", \"hat\", \"book\" or \"keychain\". Add each product name to the `customer_orders` set.\n",
    "\n",
    "6. Print the products in the `customer_orders` set.\n",
    "\n",
    "7. Calculate the following order statistics:\n",
    "   - Total Products Ordered: The total number of products in the `customer_orders` set.\n",
    "   - Percentage of Products Ordered: The percentage of products ordered compared to the total available products.\n",
    "   \n",
    "   Store these statistics in a tuple called `order_status`.\n",
    "\n",
    "8. Print the order statistics using the following format:\n",
    "   ```\n",
    "   Order Statistics:\n",
    "   Total Products Ordered: <total_products_ordered>\n",
    "   Percentage of Products Ordered: <percentage_ordered>% \n",
    "   ```\n",
    "\n",
    "9. Update the inventory by subtracting 1 from the quantity of each product. Modify the `inventory` dictionary accordingly.\n",
    "\n",
    "10. Print the updated inventory, displaying the quantity of each product on separate lines.\n",
    "\n",
    "Solve the exercise by implementing the steps using the Python concepts of lists, dictionaries, sets, and basic input/output operations. "
   ]
  },
  {
   "cell_type": "code",
   "execution_count": null,
   "metadata": {},
   "outputs": [],
   "source": []
  },
  {
   "cell_type": "code",
   "execution_count": 1,
   "metadata": {},
   "outputs": [
    {
     "name": "stdout",
     "output_type": "stream",
     "text": [
      "['t-shirt', 'mug', 'hat', 'book', 'keychain']\n"
     ]
    }
   ],
   "source": [
    "# 1. Define a list called products that contains the following items: \"t-shirt\", \"mug\", \"hat\", \"book\", \"keychain\".\n",
    "\n",
    "products = [\"t-shirt\", \"mug\", \"hat\", \"book\", \"keychain\"]\n",
    "print(products)"
   ]
  },
  {
   "cell_type": "code",
   "execution_count": 5,
   "metadata": {},
   "outputs": [],
   "source": [
    "# 2. Create an empty dictionary called inventory.\n",
    "\n",
    "inventory = {}"
   ]
  },
  {
   "cell_type": "code",
   "execution_count": 7,
   "metadata": {},
   "outputs": [
    {
     "name": "stdin",
     "output_type": "stream",
     "text": [
      "Enter the quantity for t-shirt:  5\n",
      "Enter the quantity for mug:  10\n",
      "Enter the quantity for hat:  15\n",
      "Enter the quantity for book:  20\n",
      "Enter the quantity for keychain:  25\n"
     ]
    }
   ],
   "source": [
    "# 3. Ask the user to input the quantity of each product available in the inventory. \n",
    "# Use the product names from the products list as keys in the inventory dictionary and assign the respective quantities as values.\n",
    "tshirt_quantity = input(\"Enter the quantity for t-shirt: \")\n",
    "inventory[\"t-shirt\"] = int(tshirt_quantity)\n",
    "\n",
    "mug_quantity = input(\"Enter the quantity for mug: \")\n",
    "inventory[\"mug\"] = int(mug_quantity)\n",
    "\n",
    "hat_quantity = input(\"Enter the quantity for hat: \")\n",
    "inventory[\"hat\"] = int(hat_quantity)\n",
    "\n",
    "book_quantity = input(\"Enter the quantity for book: \")\n",
    "inventory[\"book\"] = int(book_quantity)\n",
    "\n",
    "keychain_quantity = input(\"Enter the quantity for keychain: \")\n",
    "inventory[\"keychain\"] = int(keychain_quantity)"
   ]
  },
  {
   "cell_type": "code",
   "execution_count": 9,
   "metadata": {},
   "outputs": [
    {
     "data": {
      "text/plain": [
       "{'t-shirt': 5, 'mug': 10, 'hat': 15, 'book': 20, 'keychain': 25}"
      ]
     },
     "execution_count": 9,
     "metadata": {},
     "output_type": "execute_result"
    }
   ],
   "source": [
    "inventory"
   ]
  },
  {
   "cell_type": "code",
   "execution_count": 38,
   "metadata": {},
   "outputs": [],
   "source": [
    "# 4. Create an empty set called customer_orders.\n",
    "\n",
    "customer_orders = set()"
   ]
  },
  {
   "cell_type": "code",
   "execution_count": 40,
   "metadata": {},
   "outputs": [
    {
     "name": "stdout",
     "output_type": "stream",
     "text": [
      "['t-shirt', 'mug', 'hat', 'book', 'keychain']\n"
     ]
    },
    {
     "name": "stdin",
     "output_type": "stream",
     "text": [
      "Please select the first product you want to order from the list above:  mug\n",
      "Please select the second product you want to order from the list above:  keychain\n",
      "Please select the third product you want to order from the list above:  hat\n"
     ]
    }
   ],
   "source": [
    "# 5. Ask the user to input the name of three products that a customer wants to order (from those in the products list, \n",
    "# meaning three products out of \"t-shirt\", \"mug\", \"hat\", \"book\" or \"keychain\". Add each product name to the `customer_orders` set.\n",
    "\n",
    "print(products)\n",
    "product_1 = input(\"Please select the first product you want to order from the list above: \")\n",
    "product_2 = input(\"Please select the second product you want to order from the list above: \")\n",
    "product_3 = input(\"Please select the third product you want to order from the list above: \")\n",
    "\n",
    "customer_orders.add(product_1)\n",
    "customer_orders.add(product_2)\n",
    "customer_orders.add(product_3)"
   ]
  },
  {
   "cell_type": "code",
   "execution_count": 42,
   "metadata": {},
   "outputs": [
    {
     "name": "stdout",
     "output_type": "stream",
     "text": [
      "{'hat', 'keychain', 'mug'}\n"
     ]
    }
   ],
   "source": [
    "# 6. Print the products in the customer_orders set.\n",
    "\n",
    "print(customer_orders)"
   ]
  },
  {
   "cell_type": "code",
   "execution_count": 50,
   "metadata": {},
   "outputs": [
    {
     "name": "stdout",
     "output_type": "stream",
     "text": [
      "3\n"
     ]
    }
   ],
   "source": [
    "# 7. Calculate the following order statistics:\n",
    "\n",
    "# Total Products Ordered: The total number of products in the customer_orders set.\n",
    "\n",
    "total_products_ordered = len(customer_orders)\n",
    "print(total_products_ordered)"
   ]
  },
  {
   "cell_type": "code",
   "execution_count": 58,
   "metadata": {},
   "outputs": [
    {
     "name": "stdout",
     "output_type": "stream",
     "text": [
      "60.0\n"
     ]
    }
   ],
   "source": [
    "# Percentage of Products Ordered: The percentage of products ordered compared to the total available products.\n",
    "\n",
    "percentage_products_ordered = total_products_ordered / len(products) *100\n",
    "print(percentage_products_ordered)"
   ]
  },
  {
   "cell_type": "code",
   "execution_count": 60,
   "metadata": {},
   "outputs": [
    {
     "name": "stdout",
     "output_type": "stream",
     "text": [
      "(3, 60.0)\n"
     ]
    }
   ],
   "source": [
    "# Store these statistics in a tuple called order_status.\n",
    "order_status = (total_products_ordered, percentage_products_ordered)\n",
    "print(order_status)"
   ]
  },
  {
   "cell_type": "code",
   "execution_count": 68,
   "metadata": {},
   "outputs": [
    {
     "name": "stdout",
     "output_type": "stream",
     "text": [
      "Order Statistics:\n",
      "Total Products Ordered:3\n",
      "Percentage of Products Ordered:60.0\n"
     ]
    }
   ],
   "source": [
    "# 8 Print the order statistics using the following format:\n",
    "\n",
    "# Order Statistics:\n",
    "# Total Products Ordered: <total_products_ordered>\n",
    "# Percentage of Products Ordered: <percentage_ordered>% \n",
    "\n",
    "print(\"Order Statistics:\")\n",
    "print(f\"Total Products Ordered:{total_products_ordered}\")\n",
    "print(f\"Percentage of Products Ordered:{percentage_products_ordered}\")"
   ]
  },
  {
   "cell_type": "code",
   "execution_count": 71,
   "metadata": {},
   "outputs": [
    {
     "data": {
      "text/plain": [
       "{'t-shirt': 5, 'mug': 10, 'hat': 15, 'book': 20, 'keychain': 25}"
      ]
     },
     "execution_count": 71,
     "metadata": {},
     "output_type": "execute_result"
    }
   ],
   "source": [
    "# 9. Update the inventory by subtracting 1 from the quantity of each product. Modify the inventory dictionary accordingly.\n",
    "\n",
    "inventory"
   ]
  },
  {
   "cell_type": "code",
   "execution_count": 91,
   "metadata": {},
   "outputs": [
    {
     "name": "stdout",
     "output_type": "stream",
     "text": [
      "{'t-shirt': 4, 'mug': 9, 'hat': 14, 'book': 19, 'keychain': 24}\n"
     ]
    }
   ],
   "source": [
    "# One way of doing it is updating the numbers\n",
    "\n",
    "inventory[\"t-shirt\"] = 4\n",
    "inventory[\"mug\"] = 9\n",
    "inventory [\"hat\"] = 14\n",
    "inventory[\"book\"] = 19\n",
    "inventory[\"keychain\"] = 24\n",
    "\n",
    "print(inventory)"
   ]
  },
  {
   "cell_type": "code",
   "execution_count": 93,
   "metadata": {},
   "outputs": [
    {
     "name": "stdout",
     "output_type": "stream",
     "text": [
      "{'t-shirt': 3, 'mug': 8, 'hat': 13, 'book': 18, 'keychain': 23}\n"
     ]
    }
   ],
   "source": [
    "# Or we could use the operators for this:\n",
    "\n",
    "inventory[\"t-shirt\"] -= 1\n",
    "inventory[\"mug\"] -= 1\n",
    "inventory [\"hat\"] -= 1\n",
    "inventory[\"book\"] -= 1\n",
    "inventory[\"keychain\"] -= 1\n",
    "\n",
    "print(inventory)"
   ]
  },
  {
   "cell_type": "code",
   "execution_count": 95,
   "metadata": {},
   "outputs": [
    {
     "name": "stdout",
     "output_type": "stream",
     "text": [
      "Updated inventory:\n",
      "T-shirts:3\n",
      "Mugs:8\n",
      "Hats:13\n",
      "Books:18\n",
      "Keychains:23\n"
     ]
    }
   ],
   "source": [
    "# 10 Print the updated inventory, displaying the quantity of each product on separate lines.\n",
    "\n",
    "print(\"Updated inventory:\")\n",
    "print(f\"T-shirts:{inventory[\"t-shirt\"]}\")\n",
    "print(f\"Mugs:{inventory[\"mug\"]}\")\n",
    "print(f\"Hats:{inventory[\"hat\"]}\")\n",
    "print(f\"Books:{inventory[\"book\"]}\")\n",
    "print(f\"Keychains:{inventory[\"keychain\"]}\")"
   ]
  }
 ],
 "metadata": {
  "kernelspec": {
   "display_name": "Python [conda env:base] *",
   "language": "python",
   "name": "conda-base-py"
  },
  "language_info": {
   "codemirror_mode": {
    "name": "ipython",
    "version": 3
   },
   "file_extension": ".py",
   "mimetype": "text/x-python",
   "name": "python",
   "nbconvert_exporter": "python",
   "pygments_lexer": "ipython3",
   "version": "3.12.7"
  }
 },
 "nbformat": 4,
 "nbformat_minor": 4
}
